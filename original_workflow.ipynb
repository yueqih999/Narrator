{
 "cells": [
  {
   "cell_type": "code",
   "execution_count": null,
   "metadata": {},
   "outputs": [],
   "source": [
    "import numpy as np\n",
    "import pandas as pd\n",
    "from sentence_transformers import SentenceTransformer\n",
    "from sklearn.feature_extraction.text import CountVectorizer\n",
    "from sklearn.metrics.pairwise import cosine_similarity\n",
    "from tqdm import tqdm\n",
    "import hdbscan\n",
    "import matplotlib.pyplot as plt\n",
    "import umap.plot\n",
    "import urllib"
   ]
  },
  {
   "cell_type": "markdown",
   "metadata": {},
   "source": [
    "## Text Preprocessing ##"
   ]
  },
  {
   "cell_type": "code",
   "execution_count": null,
   "metadata": {},
   "outputs": [],
   "source": [
    "stoptext = open('stopwords.txt', encoding='utf-8').read()\n",
    "stopwords = stoptext.split('\\n')\n",
    "stopwords.append(' ')\n",
    "stopwords.append('——')"
   ]
  },
  {
   "cell_type": "code",
   "execution_count": null,
   "metadata": {},
   "outputs": [],
   "source": [
    "def clean_text(text):\n",
    "    words = jieba.lcut(text)\n",
    "    words = [w for w in words if w not in stopwords]\n",
    "    return ' '.join(words)"
   ]
  },
  {
   "cell_type": "code",
   "execution_count": null,
   "metadata": {},
   "outputs": [],
   "source": [
    "df = pd.read_csv('0.csv')\n",
    "jieba.setLogLevel(jieba.logging.INFO)\n",
    "df['content'] = df['text'].apply(clean_text)\n",
    "df.head()\n",
    "df1=df[-df.content.isin([''])]"
   ]
  },
  {
   "cell_type": "markdown",
   "metadata": {},
   "source": [
    "## Model Initial ##"
   ]
  },
  {
   "cell_type": "code",
   "execution_count": null,
   "metadata": {},
   "outputs": [],
   "source": [
    "model = SentenceTransformer('all-MiniLM-L6-v2')\n",
    "embeddings = model.encode(df1['content'].tolist(), show_progress_bar=True)\n",
    "embeddings.shape"
   ]
  },
  {
   "cell_type": "code",
   "execution_count": null,
   "metadata": {},
   "outputs": [],
   "source": [
    "mapper = umap.UMAP(n_neighbors=50,min_dist=0.3).fit(embeddings)"
   ]
  },
  {
   "cell_type": "code",
   "execution_count": null,
   "metadata": {},
   "outputs": [],
   "source": [
    "umap.plot.points(mapper, width=3000, labels=df1['chapter'], height=3000, color_key_cmap='Spectral', background='white',show_legend=True)"
   ]
  },
  {
   "cell_type": "code",
   "execution_count": null,
   "metadata": {},
   "outputs": [],
   "source": [
    "plt.rcParams['figure.dpi'] = 600\n",
    "plt.rcParams[\"font.size\"] = 1\n",
    "umap.plot.connectivity(mapper, width=4000, height=4000, show_points=False, edge_cmap=\"GnBu\", background=\"black\")"
   ]
  },
  {
   "cell_type": "code",
   "execution_count": null,
   "metadata": {},
   "outputs": [],
   "source": [
    "plt.rcParams['figure.dpi'] = 600\n",
    "plt.rcParams[\"font.size\"] = 1\n",
    "umap.plot.connectivity(mapper, edge_bundling='hammer', labels=df1['chapter'], width=3000, height=3000, edge_cmap=\"GnBu_r\", show_points=True, background='black')"
   ]
  }
 ],
 "metadata": {
  "language_info": {
   "name": "python"
  }
 },
 "nbformat": 4,
 "nbformat_minor": 2
}
